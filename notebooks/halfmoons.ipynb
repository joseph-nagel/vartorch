{
 "cells": [
  {
   "cell_type": "markdown",
   "metadata": {},
   "source": [
    "# Bayesian neural net (half-moons)"
   ]
  },
  {
   "cell_type": "code",
   "execution_count": null,
   "metadata": {},
   "outputs": [],
   "source": [
    "%load_ext autoreload\n",
    "%autoreload 2\n",
    "%matplotlib inline\n",
    "\n",
    "import sys\n",
    "sys.path.append('..')"
   ]
  },
  {
   "cell_type": "code",
   "execution_count": null,
   "metadata": {},
   "outputs": [],
   "source": [
    "import matplotlib.pyplot as plt\n",
    "import numpy as np\n",
    "import torch\n",
    "from lightning.pytorch import seed_everything\n",
    "\n",
    "from vartorch import (\n",
    "    MoonsDataModule,\n",
    "    DenseVarClassifier,\n",
    "    plot_data_2d,\n",
    "    plot_function_2d\n",
    ")"
   ]
  },
  {
   "cell_type": "code",
   "execution_count": null,
   "metadata": {},
   "outputs": [],
   "source": [
    "_ = seed_everything(111111) # set random seeds manually"
   ]
  },
  {
   "cell_type": "markdown",
   "metadata": {},
   "source": [
    "## Half-moons data"
   ]
  },
  {
   "cell_type": "code",
   "execution_count": null,
   "metadata": {},
   "outputs": [],
   "source": [
    "moons = MoonsDataModule(\n",
    "    num_train=500,\n",
    "    num_val=100,\n",
    "    num_test=100,\n",
    "    noise_level=0.15,\n",
    "    offsets=(0.15, -0.15),\n",
    "    batch_size=32,\n",
    ")\n",
    "\n",
    "moons.prepare_data() # sample numerical data\n",
    "moons.setup(stage='test') # create test set"
   ]
  },
  {
   "cell_type": "code",
   "execution_count": null,
   "metadata": {},
   "outputs": [],
   "source": [
    "fig, ax = plt.subplots(figsize=(5, 5))\n",
    "plot_data_2d(moons.x_train, moons.y_train, colors=(plt.cm.Set1(1), plt.cm.Set1(0)), ax=ax)\n",
    "ax.set(xlim=(-2, 3), ylim=(-2, 2.5))\n",
    "ax.set_aspect('equal', adjustable='box')\n",
    "ax.legend(loc='upper right')\n",
    "ax.grid(visible=True, which='both', color='gray', alpha=0.2, linestyle='-')\n",
    "ax.set_axisbelow(True)\n",
    "fig.tight_layout()"
   ]
  },
  {
   "cell_type": "markdown",
   "metadata": {},
   "source": [
    "## Variational model"
   ]
  },
  {
   "cell_type": "code",
   "execution_count": null,
   "metadata": {},
   "outputs": [],
   "source": [
    "ckpt_file = '../run/moons/version_0/checkpoints/last.ckpt'\n",
    "\n",
    "device = torch.device('cuda:0' if torch.cuda.is_available() else 'cpu')\n",
    "\n",
    "var_model = DenseVarClassifier.load_from_checkpoint(ckpt_file)\n",
    "\n",
    "var_model = var_model.eval()\n",
    "var_model = var_model.to(device)"
   ]
  },
  {
   "cell_type": "markdown",
   "metadata": {},
   "source": [
    "## Example predictions"
   ]
  },
  {
   "cell_type": "code",
   "execution_count": null,
   "metadata": {},
   "outputs": [],
   "source": [
    "@torch.no_grad()\n",
    "def post_mean(x):\n",
    "    '''Predict with posterior mean weights.'''\n",
    "    x_tensor = torch.tensor(x, dtype=torch.float32)\n",
    "\n",
    "    var_model.sample(False)\n",
    "    var_model.train(False)\n",
    "\n",
    "    point_logits = var_model.predict(x_tensor.to(var_model.device))\n",
    "    point_probs = torch.sigmoid(point_logits)\n",
    "    return point_probs.cpu().numpy()\n",
    "\n",
    "@torch.no_grad()\n",
    "def post_predictive(x, num_samples=100):\n",
    "    '''Predict according to the posterior predictive distribution.'''\n",
    "    x_tensor = torch.tensor(x, dtype=torch.float32)\n",
    "\n",
    "    var_model.sample(True)\n",
    "    var_model.train(False)\n",
    "\n",
    "    sampled_logits = var_model.predict(x_tensor.to(var_model.device), num_samples)\n",
    "    sampled_probs = torch.sigmoid(sampled_logits)\n",
    "\n",
    "    post_mean = torch.mean(sampled_probs, axis=-1)\n",
    "    return post_mean.cpu().numpy()\n",
    "\n",
    "@torch.no_grad()\n",
    "def post_uncertainty(x, num_samples=100):\n",
    "    '''Compute the uncertainty associated with the posterior predictive.'''\n",
    "    x_tensor = torch.tensor(x, dtype=torch.float32)\n",
    "\n",
    "    var_model.sample(True)\n",
    "    var_model.train(False)\n",
    "\n",
    "    sampled_logits = var_model.predict(x_tensor.to(var_model.device), num_samples)\n",
    "    sampled_probs = torch.sigmoid(sampled_logits)\n",
    "\n",
    "    post_std = torch.std(sampled_probs, axis=-1)\n",
    "    return post_std.cpu().numpy()"
   ]
  },
  {
   "cell_type": "code",
   "execution_count": null,
   "metadata": {},
   "outputs": [],
   "source": [
    "fig, ax = plt.subplots(figsize=(6, 4.5))\n",
    "plot_data_2d(moons.x_train, moons.y_train, colors=(plt.cm.Set1(1), plt.cm.Set1(0)), ax=ax)\n",
    "ax.set(xlim=(-2, 3), ylim=(-2, 2.5))\n",
    "plot_function_2d(post_mean, levels=(0.3, 0.5, 0.7), ax=ax)\n",
    "ax.set_aspect('equal', adjustable='box')\n",
    "ax.set_title('Posterior mean')\n",
    "ax.legend(loc='upper left')\n",
    "fig.tight_layout()"
   ]
  },
  {
   "cell_type": "code",
   "execution_count": null,
   "metadata": {},
   "outputs": [],
   "source": [
    "fig, ax = plt.subplots(figsize=(6, 4.5))\n",
    "plot_data_2d(moons.x_train, moons.y_train, colors=(plt.cm.Set1(1), plt.cm.Set1(0)), ax=ax)\n",
    "ax.set(xlim=(-2, 3), ylim=(-2, 2.5))\n",
    "plot_function_2d(post_predictive, levels=(0.1, 0.3, 0.5, 0.7, 0.9), ax=ax)\n",
    "ax.set_aspect('equal', adjustable='box')\n",
    "ax.set_title('Posterior predictions')\n",
    "ax.legend(loc='upper left')\n",
    "fig.tight_layout()"
   ]
  },
  {
   "cell_type": "code",
   "execution_count": null,
   "metadata": {},
   "outputs": [],
   "source": [
    "fig, ax = plt.subplots(figsize=(6, 4.5))\n",
    "plot_data_2d(moons.x_train, moons.y_train, colors=(plt.cm.Set1(1), plt.cm.Set1(0)), ax=ax)\n",
    "ax.set(xlim=(-2, 3), ylim=(-2, 2.5))\n",
    "plot_function_2d(post_uncertainty, levels=np.linspace(0.1, 0.9, 9), ax=ax)\n",
    "ax.set_aspect('equal', adjustable='box')\n",
    "ax.set_title('Posterior uncertainty')\n",
    "ax.legend(loc='upper left')\n",
    "fig.tight_layout()"
   ]
  }
 ],
 "metadata": {
  "kernelspec": {
   "display_name": "Python 3 (ipykernel)",
   "language": "python",
   "name": "python3"
  },
  "language_info": {
   "codemirror_mode": {
    "name": "ipython",
    "version": 3
   },
   "file_extension": ".py",
   "mimetype": "text/x-python",
   "name": "python",
   "nbconvert_exporter": "python",
   "pygments_lexer": "ipython3",
   "version": "3.11.5"
  }
 },
 "nbformat": 4,
 "nbformat_minor": 4
}
