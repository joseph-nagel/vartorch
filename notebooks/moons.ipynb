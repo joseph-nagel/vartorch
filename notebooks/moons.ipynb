{
 "cells": [
  {
   "cell_type": "markdown",
   "metadata": {},
   "source": [
    "# Bayesian neural net (half-moons)"
   ]
  },
  {
   "cell_type": "code",
   "execution_count": null,
   "metadata": {},
   "outputs": [],
   "source": [
    "%load_ext autoreload\n",
    "%autoreload 2\n",
    "%matplotlib inline"
   ]
  },
  {
   "cell_type": "code",
   "execution_count": null,
   "metadata": {},
   "outputs": [],
   "source": [
    "import matplotlib.pyplot as plt\n",
    "import numpy as np\n",
    "import torch\n",
    "from lightning.pytorch import seed_everything, Trainer\n",
    "\n",
    "from vartorch import (\n",
    "    MoonsDataModule,\n",
    "    DenseVarClassifier,\n",
    "    plot_data_2d,\n",
    "    plot_data_and_preds_2d,\n",
    "    post_mean,\n",
    "    post_predictive,\n",
    "    post_uncertainty\n",
    ")"
   ]
  },
  {
   "cell_type": "code",
   "execution_count": null,
   "metadata": {},
   "outputs": [],
   "source": [
    "_ = seed_everything(111111)  # set random seeds manually"
   ]
  },
  {
   "cell_type": "markdown",
   "metadata": {},
   "source": [
    "## Half-moons data"
   ]
  },
  {
   "cell_type": "code",
   "execution_count": null,
   "metadata": {},
   "outputs": [],
   "source": [
    "moons = MoonsDataModule(\n",
    "    num_train=500,\n",
    "    num_val=100,\n",
    "    num_test=1000,\n",
    "    noise_level=0.15,\n",
    "    offsets=(0.15, -0.15),\n",
    "    batch_size=32\n",
    ")\n",
    "\n",
    "moons.prepare_data()  # sample numerical data\n",
    "moons.setup(stage='test')  # create test set"
   ]
  },
  {
   "cell_type": "code",
   "execution_count": null,
   "metadata": {},
   "outputs": [],
   "source": [
    "fig, ax = plt.subplots(figsize=(5, 5))\n",
    "plot_data_2d(moons.x_train, moons.y_train, colors=(plt.cm.Set1(1), plt.cm.Set1(0)), ax=ax)\n",
    "ax.set(xlim=(-2.5, 2.5), ylim=(-2.5, 2.5))\n",
    "ax.set_aspect('equal', adjustable='box')\n",
    "ax.legend(loc='upper right')\n",
    "ax.grid(visible=True, which='both', color='gray', alpha=0.2, linestyle='-')\n",
    "ax.set_axisbelow(True)\n",
    "fig.tight_layout()"
   ]
  },
  {
   "cell_type": "markdown",
   "metadata": {},
   "source": [
    "## Variational model"
   ]
  },
  {
   "cell_type": "code",
   "execution_count": null,
   "metadata": {},
   "outputs": [],
   "source": [
    "ckpt_file = '../run/moons/version_0/checkpoints/last.ckpt'\n",
    "\n",
    "device = torch.device('cuda:0' if torch.cuda.is_available() else 'cpu')\n",
    "\n",
    "var_model = DenseVarClassifier.load_from_checkpoint(ckpt_file)\n",
    "\n",
    "var_model = var_model.to(device)\n",
    "var_model = var_model.train(False)\n",
    "\n",
    "print(f'Train mode: {var_model.training}')\n",
    "print(f'Sampling: {var_model.sampling}')"
   ]
  },
  {
   "cell_type": "code",
   "execution_count": null,
   "metadata": {},
   "outputs": [],
   "source": [
    "trainer = Trainer(logger=False)\n",
    "\n",
    "test_metrics = trainer.test(\n",
    "    model=var_model,\n",
    "    dataloaders=moons.test_dataloader(),\n",
    "    verbose=True\n",
    ")"
   ]
  },
  {
   "cell_type": "markdown",
   "metadata": {},
   "source": [
    "## Example predictions"
   ]
  },
  {
   "cell_type": "code",
   "execution_count": null,
   "metadata": {},
   "outputs": [],
   "source": [
    "# plot posterior mean\n",
    "fig, ax = plot_data_and_preds_2d(\n",
    "    x_data=moons.x_train,\n",
    "    y_data=moons.y_train,\n",
    "    pred_function=lambda x: post_mean(var_model, x),\n",
    "    figsize=(6, 4.5),\n",
    "    xlim=(-2.5, 2.5),\n",
    "    ylim=(-2.5, 2.5),\n",
    "    levels=(0.3, 0.5, 0.7),\n",
    "    title='Posterior mean'\n",
    ")"
   ]
  },
  {
   "cell_type": "code",
   "execution_count": null,
   "metadata": {},
   "outputs": [],
   "source": [
    "# plot posterior predictive distribution\n",
    "fig, ax = plot_data_and_preds_2d(\n",
    "    x_data=moons.x_train,\n",
    "    y_data=moons.y_train,\n",
    "    pred_function=lambda x: post_predictive(var_model, x),\n",
    "    figsize=(6, 4.5),\n",
    "    xlim=(-2.5, 2.5),\n",
    "    ylim=(-2.5, 2.5),\n",
    "    levels=(0.1, 0.3, 0.5, 0.7, 0.9),\n",
    "    title='Posterior predictions'\n",
    ")"
   ]
  },
  {
   "cell_type": "code",
   "execution_count": null,
   "metadata": {},
   "outputs": [],
   "source": [
    "# plot posterior uncertainty\n",
    "fig, ax = plot_data_and_preds_2d(\n",
    "    x_data=moons.x_train,\n",
    "    y_data=moons.y_train,\n",
    "    pred_function=lambda x: post_uncertainty(var_model, x),\n",
    "    figsize=(6, 4.5),\n",
    "    xlim=(-2.5, 2.5),\n",
    "    ylim=(-2.5, 2.5),\n",
    "    levels=np.linspace(0.1, 0.9, 9),\n",
    "    title='Posterior uncertainty'\n",
    ")"
   ]
  }
 ],
 "metadata": {
  "kernelspec": {
   "display_name": "torch",
   "language": "python",
   "name": "python3"
  },
  "language_info": {
   "codemirror_mode": {
    "name": "ipython",
    "version": 3
   },
   "file_extension": ".py",
   "mimetype": "text/x-python",
   "name": "python",
   "nbconvert_exporter": "python",
   "pygments_lexer": "ipython3",
   "version": "3.12.9"
  }
 },
 "nbformat": 4,
 "nbformat_minor": 4
}
